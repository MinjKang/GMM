{
 "cells": [
  {
   "cell_type": "code",
   "execution_count": 203,
   "id": "c282e747",
   "metadata": {},
   "outputs": [],
   "source": [
    "import warnings; warnings.simplefilter('ignore')\n",
    "import pandas as pd\n",
    "import numpy as np\n",
    "from numpy import quantile, where\n",
    "import matplotlib.pyplot as plt\n",
    "import seaborn as sns\n",
    "from sklearn.model_selection import train_test_split\n",
    "import missingno as msno"
   ]
  },
  {
   "cell_type": "code",
   "execution_count": 204,
   "id": "eca8657d",
   "metadata": {
    "scrolled": true
   },
   "outputs": [
    {
     "data": {
      "text/html": [
       "<div>\n",
       "<style scoped>\n",
       "    .dataframe tbody tr th:only-of-type {\n",
       "        vertical-align: middle;\n",
       "    }\n",
       "\n",
       "    .dataframe tbody tr th {\n",
       "        vertical-align: top;\n",
       "    }\n",
       "\n",
       "    .dataframe thead th {\n",
       "        text-align: right;\n",
       "    }\n",
       "</style>\n",
       "<table border=\"1\" class=\"dataframe\">\n",
       "  <thead>\n",
       "    <tr style=\"text-align: right;\">\n",
       "      <th></th>\n",
       "      <th>Unnamed: 0</th>\n",
       "      <th>timestamp</th>\n",
       "      <th>sensor_00</th>\n",
       "      <th>sensor_01</th>\n",
       "      <th>sensor_02</th>\n",
       "      <th>sensor_03</th>\n",
       "      <th>sensor_04</th>\n",
       "      <th>sensor_05</th>\n",
       "      <th>sensor_06</th>\n",
       "      <th>sensor_07</th>\n",
       "      <th>...</th>\n",
       "      <th>sensor_43</th>\n",
       "      <th>sensor_44</th>\n",
       "      <th>sensor_45</th>\n",
       "      <th>sensor_46</th>\n",
       "      <th>sensor_47</th>\n",
       "      <th>sensor_48</th>\n",
       "      <th>sensor_49</th>\n",
       "      <th>sensor_50</th>\n",
       "      <th>sensor_51</th>\n",
       "      <th>machine_status</th>\n",
       "    </tr>\n",
       "  </thead>\n",
       "  <tbody>\n",
       "    <tr>\n",
       "      <th>0</th>\n",
       "      <td>0</td>\n",
       "      <td>2018-04-01 00:00:00</td>\n",
       "      <td>2.465394</td>\n",
       "      <td>47.09201</td>\n",
       "      <td>53.2118</td>\n",
       "      <td>46.310760</td>\n",
       "      <td>634.3750</td>\n",
       "      <td>76.45975</td>\n",
       "      <td>13.41146</td>\n",
       "      <td>16.13136</td>\n",
       "      <td>...</td>\n",
       "      <td>41.92708</td>\n",
       "      <td>39.641200</td>\n",
       "      <td>65.68287</td>\n",
       "      <td>50.92593</td>\n",
       "      <td>38.194440</td>\n",
       "      <td>157.9861</td>\n",
       "      <td>67.70834</td>\n",
       "      <td>243.0556</td>\n",
       "      <td>201.3889</td>\n",
       "      <td>NORMAL</td>\n",
       "    </tr>\n",
       "    <tr>\n",
       "      <th>1</th>\n",
       "      <td>1</td>\n",
       "      <td>2018-04-01 00:01:00</td>\n",
       "      <td>2.465394</td>\n",
       "      <td>47.09201</td>\n",
       "      <td>53.2118</td>\n",
       "      <td>46.310760</td>\n",
       "      <td>634.3750</td>\n",
       "      <td>76.45975</td>\n",
       "      <td>13.41146</td>\n",
       "      <td>16.13136</td>\n",
       "      <td>...</td>\n",
       "      <td>41.92708</td>\n",
       "      <td>39.641200</td>\n",
       "      <td>65.68287</td>\n",
       "      <td>50.92593</td>\n",
       "      <td>38.194440</td>\n",
       "      <td>157.9861</td>\n",
       "      <td>67.70834</td>\n",
       "      <td>243.0556</td>\n",
       "      <td>201.3889</td>\n",
       "      <td>NORMAL</td>\n",
       "    </tr>\n",
       "    <tr>\n",
       "      <th>2</th>\n",
       "      <td>2</td>\n",
       "      <td>2018-04-01 00:02:00</td>\n",
       "      <td>2.444734</td>\n",
       "      <td>47.35243</td>\n",
       "      <td>53.2118</td>\n",
       "      <td>46.397570</td>\n",
       "      <td>638.8889</td>\n",
       "      <td>73.54598</td>\n",
       "      <td>13.32465</td>\n",
       "      <td>16.03733</td>\n",
       "      <td>...</td>\n",
       "      <td>41.66666</td>\n",
       "      <td>39.351852</td>\n",
       "      <td>65.39352</td>\n",
       "      <td>51.21528</td>\n",
       "      <td>38.194443</td>\n",
       "      <td>155.9606</td>\n",
       "      <td>67.12963</td>\n",
       "      <td>241.3194</td>\n",
       "      <td>203.7037</td>\n",
       "      <td>NORMAL</td>\n",
       "    </tr>\n",
       "    <tr>\n",
       "      <th>3</th>\n",
       "      <td>3</td>\n",
       "      <td>2018-04-01 00:03:00</td>\n",
       "      <td>2.460474</td>\n",
       "      <td>47.09201</td>\n",
       "      <td>53.1684</td>\n",
       "      <td>46.397568</td>\n",
       "      <td>628.1250</td>\n",
       "      <td>76.98898</td>\n",
       "      <td>13.31742</td>\n",
       "      <td>16.24711</td>\n",
       "      <td>...</td>\n",
       "      <td>40.88541</td>\n",
       "      <td>39.062500</td>\n",
       "      <td>64.81481</td>\n",
       "      <td>51.21528</td>\n",
       "      <td>38.194440</td>\n",
       "      <td>155.9606</td>\n",
       "      <td>66.84028</td>\n",
       "      <td>240.4514</td>\n",
       "      <td>203.1250</td>\n",
       "      <td>NORMAL</td>\n",
       "    </tr>\n",
       "    <tr>\n",
       "      <th>4</th>\n",
       "      <td>4</td>\n",
       "      <td>2018-04-01 00:04:00</td>\n",
       "      <td>2.445718</td>\n",
       "      <td>47.13541</td>\n",
       "      <td>53.2118</td>\n",
       "      <td>46.397568</td>\n",
       "      <td>636.4583</td>\n",
       "      <td>76.58897</td>\n",
       "      <td>13.35359</td>\n",
       "      <td>16.21094</td>\n",
       "      <td>...</td>\n",
       "      <td>41.40625</td>\n",
       "      <td>38.773150</td>\n",
       "      <td>65.10416</td>\n",
       "      <td>51.79398</td>\n",
       "      <td>38.773150</td>\n",
       "      <td>158.2755</td>\n",
       "      <td>66.55093</td>\n",
       "      <td>242.1875</td>\n",
       "      <td>201.3889</td>\n",
       "      <td>NORMAL</td>\n",
       "    </tr>\n",
       "  </tbody>\n",
       "</table>\n",
       "<p>5 rows × 55 columns</p>\n",
       "</div>"
      ],
      "text/plain": [
       "   Unnamed: 0            timestamp  sensor_00  sensor_01  sensor_02  \\\n",
       "0           0  2018-04-01 00:00:00   2.465394   47.09201    53.2118   \n",
       "1           1  2018-04-01 00:01:00   2.465394   47.09201    53.2118   \n",
       "2           2  2018-04-01 00:02:00   2.444734   47.35243    53.2118   \n",
       "3           3  2018-04-01 00:03:00   2.460474   47.09201    53.1684   \n",
       "4           4  2018-04-01 00:04:00   2.445718   47.13541    53.2118   \n",
       "\n",
       "   sensor_03  sensor_04  sensor_05  sensor_06  sensor_07  ...  sensor_43  \\\n",
       "0  46.310760   634.3750   76.45975   13.41146   16.13136  ...   41.92708   \n",
       "1  46.310760   634.3750   76.45975   13.41146   16.13136  ...   41.92708   \n",
       "2  46.397570   638.8889   73.54598   13.32465   16.03733  ...   41.66666   \n",
       "3  46.397568   628.1250   76.98898   13.31742   16.24711  ...   40.88541   \n",
       "4  46.397568   636.4583   76.58897   13.35359   16.21094  ...   41.40625   \n",
       "\n",
       "   sensor_44  sensor_45  sensor_46  sensor_47  sensor_48  sensor_49  \\\n",
       "0  39.641200   65.68287   50.92593  38.194440   157.9861   67.70834   \n",
       "1  39.641200   65.68287   50.92593  38.194440   157.9861   67.70834   \n",
       "2  39.351852   65.39352   51.21528  38.194443   155.9606   67.12963   \n",
       "3  39.062500   64.81481   51.21528  38.194440   155.9606   66.84028   \n",
       "4  38.773150   65.10416   51.79398  38.773150   158.2755   66.55093   \n",
       "\n",
       "   sensor_50  sensor_51  machine_status  \n",
       "0   243.0556   201.3889          NORMAL  \n",
       "1   243.0556   201.3889          NORMAL  \n",
       "2   241.3194   203.7037          NORMAL  \n",
       "3   240.4514   203.1250          NORMAL  \n",
       "4   242.1875   201.3889          NORMAL  \n",
       "\n",
       "[5 rows x 55 columns]"
      ]
     },
     "execution_count": 204,
     "metadata": {},
     "output_type": "execute_result"
    }
   ],
   "source": [
    "dataset = pd.read_csv(\"sensor.csv\")\n",
    "dataset = dataset.fillna(0)\n",
    "dataset.head(5)"
   ]
  },
  {
   "cell_type": "code",
   "execution_count": 205,
   "id": "87693a4b",
   "metadata": {},
   "outputs": [],
   "source": [
    "datatime = dataset[\"timestamp\"]\n",
    "del dataset[\"timestamp\"]\n",
    "\n",
    "del dataset[\"Unnamed: 0\"]"
   ]
  },
  {
   "cell_type": "code",
   "execution_count": 206,
   "id": "983faf3e",
   "metadata": {
    "scrolled": true
   },
   "outputs": [
    {
     "data": {
      "text/html": [
       "<div>\n",
       "<style scoped>\n",
       "    .dataframe tbody tr th:only-of-type {\n",
       "        vertical-align: middle;\n",
       "    }\n",
       "\n",
       "    .dataframe tbody tr th {\n",
       "        vertical-align: top;\n",
       "    }\n",
       "\n",
       "    .dataframe thead th {\n",
       "        text-align: right;\n",
       "    }\n",
       "</style>\n",
       "<table border=\"1\" class=\"dataframe\">\n",
       "  <thead>\n",
       "    <tr style=\"text-align: right;\">\n",
       "      <th></th>\n",
       "      <th>sensor_00</th>\n",
       "      <th>sensor_01</th>\n",
       "      <th>sensor_02</th>\n",
       "      <th>sensor_03</th>\n",
       "      <th>sensor_04</th>\n",
       "      <th>sensor_05</th>\n",
       "      <th>sensor_06</th>\n",
       "      <th>sensor_07</th>\n",
       "      <th>sensor_08</th>\n",
       "      <th>sensor_09</th>\n",
       "      <th>...</th>\n",
       "      <th>sensor_43</th>\n",
       "      <th>sensor_44</th>\n",
       "      <th>sensor_45</th>\n",
       "      <th>sensor_46</th>\n",
       "      <th>sensor_47</th>\n",
       "      <th>sensor_48</th>\n",
       "      <th>sensor_49</th>\n",
       "      <th>sensor_50</th>\n",
       "      <th>sensor_51</th>\n",
       "      <th>machine_status</th>\n",
       "    </tr>\n",
       "  </thead>\n",
       "  <tbody>\n",
       "    <tr>\n",
       "      <th>0</th>\n",
       "      <td>2.465394</td>\n",
       "      <td>47.09201</td>\n",
       "      <td>53.211800</td>\n",
       "      <td>46.310760</td>\n",
       "      <td>634.375000</td>\n",
       "      <td>76.45975</td>\n",
       "      <td>13.41146</td>\n",
       "      <td>16.13136</td>\n",
       "      <td>15.56713</td>\n",
       "      <td>15.05353</td>\n",
       "      <td>...</td>\n",
       "      <td>41.92708</td>\n",
       "      <td>39.641200</td>\n",
       "      <td>65.68287</td>\n",
       "      <td>50.92593</td>\n",
       "      <td>38.194440</td>\n",
       "      <td>157.9861</td>\n",
       "      <td>67.70834</td>\n",
       "      <td>243.0556</td>\n",
       "      <td>201.3889</td>\n",
       "      <td>NORMAL</td>\n",
       "    </tr>\n",
       "    <tr>\n",
       "      <th>1</th>\n",
       "      <td>2.465394</td>\n",
       "      <td>47.09201</td>\n",
       "      <td>53.211800</td>\n",
       "      <td>46.310760</td>\n",
       "      <td>634.375000</td>\n",
       "      <td>76.45975</td>\n",
       "      <td>13.41146</td>\n",
       "      <td>16.13136</td>\n",
       "      <td>15.56713</td>\n",
       "      <td>15.05353</td>\n",
       "      <td>...</td>\n",
       "      <td>41.92708</td>\n",
       "      <td>39.641200</td>\n",
       "      <td>65.68287</td>\n",
       "      <td>50.92593</td>\n",
       "      <td>38.194440</td>\n",
       "      <td>157.9861</td>\n",
       "      <td>67.70834</td>\n",
       "      <td>243.0556</td>\n",
       "      <td>201.3889</td>\n",
       "      <td>NORMAL</td>\n",
       "    </tr>\n",
       "    <tr>\n",
       "      <th>2</th>\n",
       "      <td>2.444734</td>\n",
       "      <td>47.35243</td>\n",
       "      <td>53.211800</td>\n",
       "      <td>46.397570</td>\n",
       "      <td>638.888900</td>\n",
       "      <td>73.54598</td>\n",
       "      <td>13.32465</td>\n",
       "      <td>16.03733</td>\n",
       "      <td>15.61777</td>\n",
       "      <td>15.01013</td>\n",
       "      <td>...</td>\n",
       "      <td>41.66666</td>\n",
       "      <td>39.351852</td>\n",
       "      <td>65.39352</td>\n",
       "      <td>51.21528</td>\n",
       "      <td>38.194443</td>\n",
       "      <td>155.9606</td>\n",
       "      <td>67.12963</td>\n",
       "      <td>241.3194</td>\n",
       "      <td>203.7037</td>\n",
       "      <td>NORMAL</td>\n",
       "    </tr>\n",
       "    <tr>\n",
       "      <th>3</th>\n",
       "      <td>2.460474</td>\n",
       "      <td>47.09201</td>\n",
       "      <td>53.168400</td>\n",
       "      <td>46.397568</td>\n",
       "      <td>628.125000</td>\n",
       "      <td>76.98898</td>\n",
       "      <td>13.31742</td>\n",
       "      <td>16.24711</td>\n",
       "      <td>15.69734</td>\n",
       "      <td>15.08247</td>\n",
       "      <td>...</td>\n",
       "      <td>40.88541</td>\n",
       "      <td>39.062500</td>\n",
       "      <td>64.81481</td>\n",
       "      <td>51.21528</td>\n",
       "      <td>38.194440</td>\n",
       "      <td>155.9606</td>\n",
       "      <td>66.84028</td>\n",
       "      <td>240.4514</td>\n",
       "      <td>203.1250</td>\n",
       "      <td>NORMAL</td>\n",
       "    </tr>\n",
       "    <tr>\n",
       "      <th>4</th>\n",
       "      <td>2.445718</td>\n",
       "      <td>47.13541</td>\n",
       "      <td>53.211800</td>\n",
       "      <td>46.397568</td>\n",
       "      <td>636.458300</td>\n",
       "      <td>76.58897</td>\n",
       "      <td>13.35359</td>\n",
       "      <td>16.21094</td>\n",
       "      <td>15.69734</td>\n",
       "      <td>15.08247</td>\n",
       "      <td>...</td>\n",
       "      <td>41.40625</td>\n",
       "      <td>38.773150</td>\n",
       "      <td>65.10416</td>\n",
       "      <td>51.79398</td>\n",
       "      <td>38.773150</td>\n",
       "      <td>158.2755</td>\n",
       "      <td>66.55093</td>\n",
       "      <td>242.1875</td>\n",
       "      <td>201.3889</td>\n",
       "      <td>NORMAL</td>\n",
       "    </tr>\n",
       "    <tr>\n",
       "      <th>...</th>\n",
       "      <td>...</td>\n",
       "      <td>...</td>\n",
       "      <td>...</td>\n",
       "      <td>...</td>\n",
       "      <td>...</td>\n",
       "      <td>...</td>\n",
       "      <td>...</td>\n",
       "      <td>...</td>\n",
       "      <td>...</td>\n",
       "      <td>...</td>\n",
       "      <td>...</td>\n",
       "      <td>...</td>\n",
       "      <td>...</td>\n",
       "      <td>...</td>\n",
       "      <td>...</td>\n",
       "      <td>...</td>\n",
       "      <td>...</td>\n",
       "      <td>...</td>\n",
       "      <td>...</td>\n",
       "      <td>...</td>\n",
       "      <td>...</td>\n",
       "    </tr>\n",
       "    <tr>\n",
       "      <th>220315</th>\n",
       "      <td>2.407350</td>\n",
       "      <td>47.69965</td>\n",
       "      <td>50.520830</td>\n",
       "      <td>43.142361</td>\n",
       "      <td>634.722229</td>\n",
       "      <td>64.59095</td>\n",
       "      <td>15.11863</td>\n",
       "      <td>16.65220</td>\n",
       "      <td>15.65393</td>\n",
       "      <td>15.16204</td>\n",
       "      <td>...</td>\n",
       "      <td>38.28125</td>\n",
       "      <td>68.287030</td>\n",
       "      <td>52.37268</td>\n",
       "      <td>48.32176</td>\n",
       "      <td>41.087960</td>\n",
       "      <td>212.3843</td>\n",
       "      <td>153.64580</td>\n",
       "      <td>0.0000</td>\n",
       "      <td>231.1921</td>\n",
       "      <td>NORMAL</td>\n",
       "    </tr>\n",
       "    <tr>\n",
       "      <th>220316</th>\n",
       "      <td>2.400463</td>\n",
       "      <td>47.69965</td>\n",
       "      <td>50.564240</td>\n",
       "      <td>43.142361</td>\n",
       "      <td>630.902771</td>\n",
       "      <td>65.83363</td>\n",
       "      <td>15.15480</td>\n",
       "      <td>16.70284</td>\n",
       "      <td>15.65393</td>\n",
       "      <td>15.11863</td>\n",
       "      <td>...</td>\n",
       "      <td>38.28125</td>\n",
       "      <td>66.840280</td>\n",
       "      <td>50.63657</td>\n",
       "      <td>48.03241</td>\n",
       "      <td>40.798610</td>\n",
       "      <td>213.8310</td>\n",
       "      <td>156.25000</td>\n",
       "      <td>0.0000</td>\n",
       "      <td>231.1921</td>\n",
       "      <td>NORMAL</td>\n",
       "    </tr>\n",
       "    <tr>\n",
       "      <th>220317</th>\n",
       "      <td>2.396528</td>\n",
       "      <td>47.69965</td>\n",
       "      <td>50.520830</td>\n",
       "      <td>43.142361</td>\n",
       "      <td>625.925903</td>\n",
       "      <td>67.29445</td>\n",
       "      <td>15.08970</td>\n",
       "      <td>16.70284</td>\n",
       "      <td>15.69734</td>\n",
       "      <td>15.11863</td>\n",
       "      <td>...</td>\n",
       "      <td>39.06250</td>\n",
       "      <td>65.393520</td>\n",
       "      <td>48.90046</td>\n",
       "      <td>48.03241</td>\n",
       "      <td>40.798610</td>\n",
       "      <td>217.3032</td>\n",
       "      <td>155.38190</td>\n",
       "      <td>0.0000</td>\n",
       "      <td>232.0602</td>\n",
       "      <td>NORMAL</td>\n",
       "    </tr>\n",
       "    <tr>\n",
       "      <th>220318</th>\n",
       "      <td>2.406366</td>\n",
       "      <td>47.69965</td>\n",
       "      <td>50.520832</td>\n",
       "      <td>43.142361</td>\n",
       "      <td>635.648100</td>\n",
       "      <td>65.09175</td>\n",
       "      <td>15.11863</td>\n",
       "      <td>16.56539</td>\n",
       "      <td>15.74074</td>\n",
       "      <td>15.11863</td>\n",
       "      <td>...</td>\n",
       "      <td>40.62500</td>\n",
       "      <td>64.236110</td>\n",
       "      <td>47.74306</td>\n",
       "      <td>48.32176</td>\n",
       "      <td>40.509258</td>\n",
       "      <td>222.5116</td>\n",
       "      <td>153.93520</td>\n",
       "      <td>0.0000</td>\n",
       "      <td>234.0856</td>\n",
       "      <td>NORMAL</td>\n",
       "    </tr>\n",
       "    <tr>\n",
       "      <th>220319</th>\n",
       "      <td>2.396528</td>\n",
       "      <td>47.69965</td>\n",
       "      <td>50.520832</td>\n",
       "      <td>43.142361</td>\n",
       "      <td>639.814800</td>\n",
       "      <td>65.45634</td>\n",
       "      <td>15.11863</td>\n",
       "      <td>16.65220</td>\n",
       "      <td>15.65393</td>\n",
       "      <td>15.01013</td>\n",
       "      <td>...</td>\n",
       "      <td>41.40625</td>\n",
       "      <td>62.789350</td>\n",
       "      <td>46.29630</td>\n",
       "      <td>48.90046</td>\n",
       "      <td>40.219910</td>\n",
       "      <td>227.4306</td>\n",
       "      <td>150.46300</td>\n",
       "      <td>0.0000</td>\n",
       "      <td>234.0856</td>\n",
       "      <td>NORMAL</td>\n",
       "    </tr>\n",
       "  </tbody>\n",
       "</table>\n",
       "<p>220320 rows × 53 columns</p>\n",
       "</div>"
      ],
      "text/plain": [
       "        sensor_00  sensor_01  sensor_02  sensor_03   sensor_04  sensor_05  \\\n",
       "0        2.465394   47.09201  53.211800  46.310760  634.375000   76.45975   \n",
       "1        2.465394   47.09201  53.211800  46.310760  634.375000   76.45975   \n",
       "2        2.444734   47.35243  53.211800  46.397570  638.888900   73.54598   \n",
       "3        2.460474   47.09201  53.168400  46.397568  628.125000   76.98898   \n",
       "4        2.445718   47.13541  53.211800  46.397568  636.458300   76.58897   \n",
       "...           ...        ...        ...        ...         ...        ...   \n",
       "220315   2.407350   47.69965  50.520830  43.142361  634.722229   64.59095   \n",
       "220316   2.400463   47.69965  50.564240  43.142361  630.902771   65.83363   \n",
       "220317   2.396528   47.69965  50.520830  43.142361  625.925903   67.29445   \n",
       "220318   2.406366   47.69965  50.520832  43.142361  635.648100   65.09175   \n",
       "220319   2.396528   47.69965  50.520832  43.142361  639.814800   65.45634   \n",
       "\n",
       "        sensor_06  sensor_07  sensor_08  sensor_09  ...  sensor_43  sensor_44  \\\n",
       "0        13.41146   16.13136   15.56713   15.05353  ...   41.92708  39.641200   \n",
       "1        13.41146   16.13136   15.56713   15.05353  ...   41.92708  39.641200   \n",
       "2        13.32465   16.03733   15.61777   15.01013  ...   41.66666  39.351852   \n",
       "3        13.31742   16.24711   15.69734   15.08247  ...   40.88541  39.062500   \n",
       "4        13.35359   16.21094   15.69734   15.08247  ...   41.40625  38.773150   \n",
       "...           ...        ...        ...        ...  ...        ...        ...   \n",
       "220315   15.11863   16.65220   15.65393   15.16204  ...   38.28125  68.287030   \n",
       "220316   15.15480   16.70284   15.65393   15.11863  ...   38.28125  66.840280   \n",
       "220317   15.08970   16.70284   15.69734   15.11863  ...   39.06250  65.393520   \n",
       "220318   15.11863   16.56539   15.74074   15.11863  ...   40.62500  64.236110   \n",
       "220319   15.11863   16.65220   15.65393   15.01013  ...   41.40625  62.789350   \n",
       "\n",
       "        sensor_45  sensor_46  sensor_47  sensor_48  sensor_49  sensor_50  \\\n",
       "0        65.68287   50.92593  38.194440   157.9861   67.70834   243.0556   \n",
       "1        65.68287   50.92593  38.194440   157.9861   67.70834   243.0556   \n",
       "2        65.39352   51.21528  38.194443   155.9606   67.12963   241.3194   \n",
       "3        64.81481   51.21528  38.194440   155.9606   66.84028   240.4514   \n",
       "4        65.10416   51.79398  38.773150   158.2755   66.55093   242.1875   \n",
       "...           ...        ...        ...        ...        ...        ...   \n",
       "220315   52.37268   48.32176  41.087960   212.3843  153.64580     0.0000   \n",
       "220316   50.63657   48.03241  40.798610   213.8310  156.25000     0.0000   \n",
       "220317   48.90046   48.03241  40.798610   217.3032  155.38190     0.0000   \n",
       "220318   47.74306   48.32176  40.509258   222.5116  153.93520     0.0000   \n",
       "220319   46.29630   48.90046  40.219910   227.4306  150.46300     0.0000   \n",
       "\n",
       "        sensor_51  machine_status  \n",
       "0        201.3889          NORMAL  \n",
       "1        201.3889          NORMAL  \n",
       "2        203.7037          NORMAL  \n",
       "3        203.1250          NORMAL  \n",
       "4        201.3889          NORMAL  \n",
       "...           ...             ...  \n",
       "220315   231.1921          NORMAL  \n",
       "220316   231.1921          NORMAL  \n",
       "220317   232.0602          NORMAL  \n",
       "220318   234.0856          NORMAL  \n",
       "220319   234.0856          NORMAL  \n",
       "\n",
       "[220320 rows x 53 columns]"
      ]
     },
     "execution_count": 206,
     "metadata": {},
     "output_type": "execute_result"
    }
   ],
   "source": [
    "dataset"
   ]
  },
  {
   "cell_type": "code",
   "execution_count": 207,
   "id": "3288ed94",
   "metadata": {},
   "outputs": [],
   "source": [
    "dataset.loc[dataset[\"machine_status\"]== 'NORMAL', 'class'] = '1' #정상\n",
    "dataset.loc[dataset[\"machine_status\"]== 'RECOVERING', 'class'] = '0' #이상\n",
    "dataset.loc[dataset[\"machine_status\"]== 'BROCKEN', 'class'] = '0' #이상"
   ]
  },
  {
   "cell_type": "code",
   "execution_count": 208,
   "id": "74474e5e",
   "metadata": {},
   "outputs": [],
   "source": [
    "del dataset['machine_status']"
   ]
  },
  {
   "cell_type": "code",
   "execution_count": 209,
   "id": "57ad758b",
   "metadata": {},
   "outputs": [
    {
     "name": "stdout",
     "output_type": "stream",
     "text": [
      "1 = normal, 0 = abnormal\n",
      "1    205836\n",
      "0     14477\n",
      "Name: class, dtype: int64\n"
     ]
    },
    {
     "data": {
      "image/png": "[encoded data removed]",
      "text/plain": [
       "<Figure size 1152x144 with 1 Axes>"
      ]
     },
     "metadata": {
      "needs_background": "light"
     },
     "output_type": "display_data"
    }
   ],
   "source": [
    "# Plot the balance of class labels\n",
    "normal = dataset['class']\n",
    "df_base = dataset.copy()\n",
    "\n",
    "print('1 = normal, 0 = abnormal')\n",
    "value_counts = normal.value_counts()\n",
    "print(value_counts)\n",
    "\n",
    "plt.figure(figsize=(16,2))\n",
    "fig = sns.countplot(y=normal, data=dataset, color='b')\n",
    "plt.show()"
   ]
  },
  {
   "cell_type": "code",
   "execution_count": 210,
   "id": "ea40aa19",
   "metadata": {},
   "outputs": [
    {
     "data": {
      "text/plain": [
       "((191359, 53), (28954, 53), (14477, 53))"
      ]
     },
     "execution_count": 210,
     "metadata": {},
     "output_type": "execute_result"
    }
   ],
   "source": [
    "train_dataset = dataset['class'].isin(['1'])\n",
    "train_dataset = dataset.loc[train_dataset]\n",
    "\n",
    "test_dataset_normal = train_dataset.iloc[191359:]\n",
    "train_dataset = train_dataset.iloc[:191359]\n",
    "\n",
    "test_dataset = dataset['class'].isin(['0'])\n",
    "test_dataset = dataset.loc[test_dataset]\n",
    "\n",
    "test_dataset = pd.concat([test_dataset_normal, test_dataset])\n",
    "\n",
    "train_dataset.shape, test_dataset.shape, test_dataset_normal.shape"
   ]
  },
  {
   "cell_type": "code",
   "execution_count": 211,
   "id": "6a2eb113",
   "metadata": {},
   "outputs": [],
   "source": [
    "y_train = train_dataset[\"class\"]\n",
    "y_test = test_dataset[\"class\"]\n",
    "\n",
    "del train_dataset['class']\n",
    "del test_dataset['class']"
   ]
  },
  {
   "cell_type": "code",
   "execution_count": 315,
   "id": "1654d237",
   "metadata": {},
   "outputs": [
    {
     "data": {
      "image/png": "[encoded data removed]",
      "text/plain": [
       "<Figure size 1152x144 with 1 Axes>"
      ]
     },
     "metadata": {
      "needs_background": "light"
     },
     "output_type": "display_data"
    }
   ],
   "source": [
    "plt.figure(figsize=(16,2))\n",
    "fig = sns.countplot(y=y_train, data=y_train, color='b')\n",
    "plt.show()"
   ]
  },
  {
   "cell_type": "code",
   "execution_count": 316,
   "id": "45e0a7bb",
   "metadata": {},
   "outputs": [
    {
     "data": {
      "image/png": "[encoded data removed]",
      "text/plain": [
       "<Figure size 1152x144 with 1 Axes>"
      ]
     },
     "metadata": {
      "needs_background": "light"
     },
     "output_type": "display_data"
    }
   ],
   "source": [
    "plt.figure(figsize=(16,2))\n",
    "fig = sns.countplot(y=y_test, data=y_test, color='b')\n",
    "plt.show()"
   ]
  },
  {
   "cell_type": "code",
   "execution_count": 212,
   "id": "0a784ed3",
   "metadata": {},
   "outputs": [],
   "source": [
    "from sklearn.preprocessing import StandardScaler, MinMaxScaler, RobustScaler\n",
    "\n",
    "scaler = MinMaxScaler()\n",
    "X_scaled_train  = scaler.fit_transform(train_dataset)\n",
    "X_scaled_test  = scaler.fit_transform(test_dataset)"
   ]
  },
  {
   "cell_type": "code",
   "execution_count": null,
   "id": "8ff9bb48",
   "metadata": {},
   "outputs": [],
   "source": []
  },
  {
   "cell_type": "code",
   "execution_count": 213,
   "id": "6c3f5688",
   "metadata": {},
   "outputs": [],
   "source": [
    "from sklearn.mixture import GaussianMixture"
   ]
  },
  {
   "cell_type": "code",
   "execution_count": 298,
   "id": "22526d33",
   "metadata": {},
   "outputs": [],
   "source": [
    "GMM = GaussianMixture(n_components=3, random_state=100)"
   ]
  },
  {
   "cell_type": "code",
   "execution_count": 299,
   "id": "e4598c4d",
   "metadata": {},
   "outputs": [
    {
     "data": {
      "text/plain": [
       "GaussianMixture(n_components=3, random_state=100)"
      ]
     },
     "execution_count": 299,
     "metadata": {},
     "output_type": "execute_result"
    }
   ],
   "source": [
    "GMM.fit(train_dataset)"
   ]
  },
  {
   "cell_type": "code",
   "execution_count": 300,
   "id": "98dedd23",
   "metadata": {},
   "outputs": [
    {
     "data": {
      "text/plain": [
       "array([-169.54575073, -169.54575073, -167.71177414, ..., -173.27241603,\n",
       "       -173.32228642, -168.15023299])"
      ]
     },
     "execution_count": 300,
     "metadata": {},
     "output_type": "execute_result"
    }
   ],
   "source": [
    "anomaly_score_GMM_train = GMM.score_samples(train_dataset)\n",
    "anomaly_score_GMM_train"
   ]
  },
  {
   "cell_type": "code",
   "execution_count": 301,
   "id": "09a2ae3f",
   "metadata": {},
   "outputs": [],
   "source": [
    "anomaly_score_GMM_sorted = sorted(anomaly_score_GMM_train)"
   ]
  },
  {
   "cell_type": "code",
   "execution_count": 302,
   "id": "f648ef78",
   "metadata": {
    "scrolled": true
   },
   "outputs": [
    {
     "data": {
      "text/plain": [
       "(28954,)"
      ]
     },
     "execution_count": 302,
     "metadata": {},
     "output_type": "execute_result"
    }
   ],
   "source": [
    "anomaly_score_GMM_test = GMM.score_samples(test_dataset)\n",
    "anomaly_score_GMM_test.shape"
   ]
  },
  {
   "cell_type": "code",
   "execution_count": 303,
   "id": "c74b758d",
   "metadata": {},
   "outputs": [],
   "source": [
    "error = np.array(anomaly_score_GMM_sorted)     \n",
    "error = error.reshape(-1,1)\n",
    "\n",
    "error_test=np.array(anomaly_score_GMM_test)\n",
    "error_test = error_test.reshape(-1,1)"
   ]
  },
  {
   "cell_type": "code",
   "execution_count": 304,
   "id": "27455ab2",
   "metadata": {},
   "outputs": [],
   "source": [
    "from sklearn.preprocessing import StandardScaler, MinMaxScaler, RobustScaler\n",
    "\n",
    "scaler = MinMaxScaler()\n",
    "scaled_error  = scaler.fit_transform(error)\n",
    "scaled_error_test  = scaler.fit_transform(error_test)"
   ]
  },
  {
   "cell_type": "code",
   "execution_count": 305,
   "id": "0fe6ab6e",
   "metadata": {},
   "outputs": [],
   "source": [
    "thresh_GMM = np.percentile(scaled_error, 90)"
   ]
  },
  {
   "cell_type": "code",
   "execution_count": 306,
   "id": "comfortable-grenada",
   "metadata": {
    "scrolled": true
   },
   "outputs": [],
   "source": [
    "# classifier\n",
    "df_test = []\n",
    "\n",
    "def novelty_classifier(novelty_score):\n",
    "    for i in range(len(novelty_score)):\n",
    "        if novelty_score[i] > thresh_GMM:\n",
    "            df_test.append('0')\n",
    "        else:\n",
    "            df_test.append('1')"
   ]
  },
  {
   "cell_type": "code",
   "execution_count": 307,
   "id": "e14be7a9",
   "metadata": {},
   "outputs": [],
   "source": [
    "novelty_classifier(scaled_error_test)"
   ]
  },
  {
   "cell_type": "code",
   "execution_count": 308,
   "id": "ee0e97dd",
   "metadata": {},
   "outputs": [],
   "source": [
    "def measure_performance(model, X_test, y_true, map_labels):\n",
    "    # predict on testset\n",
    "\n",
    "    df_pred_test = pd.DataFrame(X_test, columns=['Pred'])\n",
    "    x_pred = df_pred_test['Pred'] \n",
    "    \n",
    "    matrix = confusion_matrix(x_pred, y_true)\n",
    "\n",
    "    sns.heatmap(pd.DataFrame(matrix, columns = ['Actual', 'Predicted']),\n",
    "                xticklabels=['Normal [0]', 'Abnormal [1]'], \n",
    "                yticklabels=['Normal [0]', 'Abnormal [1]'], \n",
    "                annot=True, fmt=\"d\", linewidths=.5, cmap=\"YlGnBu\")\n",
    "    plt.ylabel('Predicted')\n",
    "    plt.xlabel('Actual')\n",
    "    \n",
    "    print(classification_report(X_test, y_true))\n",
    "    \n",
    "    model_score = score(X_test, y_true,average='macro')\n",
    "    print(f'f1_score: {np.round(model_score[2]*100, 2)}%')\n",
    "    \n",
    "    return model_score"
   ]
  },
  {
   "cell_type": "code",
   "execution_count": null,
   "id": "9dd1adfd",
   "metadata": {},
   "outputs": [],
   "source": []
  },
  {
   "cell_type": "code",
   "execution_count": 309,
   "id": "c727ab0f",
   "metadata": {},
   "outputs": [
    {
     "name": "stdout",
     "output_type": "stream",
     "text": [
      "              precision    recall  f1-score   support\n",
      "\n",
      "           0       0.00      0.00      0.00        51\n",
      "           1       1.00      0.50      0.67     28903\n",
      "\n",
      "    accuracy                           0.50     28954\n",
      "   macro avg       0.50      0.25      0.33     28954\n",
      "weighted avg       0.99      0.50      0.66     28954\n",
      "\n",
      "f1_score: 33.25%\n"
     ]
    },
    {
     "data": {
      "image/png": "[encoded data removed]",
      "text/plain": [
       "<Figure size 432x288 with 2 Axes>"
      ]
     },
     "metadata": {
      "needs_background": "light"
     },
     "output_type": "display_data"
    }
   ],
   "source": [
    "map_labels = True \n",
    "model_score = measure_performance(GMM, df_test, y_test, map_labels)\n",
    "performance_df = pd.DataFrame().append({'model_name':GMM, \n",
    "                                    'f1_score': model_score[0], \n",
    "                                    'precision': model_score[1], \n",
    "                                    'recall': model_score[2]}, ignore_index=True)"
   ]
  },
  {
   "cell_type": "code",
   "execution_count": null,
   "id": "6c104a2b",
   "metadata": {},
   "outputs": [],
   "source": []
  }
 ],
 "metadata": {
  "kernelspec": {
   "display_name": "Python 3 (ipykernel)",
   "language": "python",
   "name": "python3"
  },
  "language_info": {
   "codemirror_mode": {
    "name": "ipython",
    "version": 3
   },
   "file_extension": ".py",
   "mimetype": "text/x-python",
   "name": "python",
   "nbconvert_exporter": "python",
   "pygments_lexer": "ipython3",
   "version": "3.9.7"
  }
 },
 "nbformat": 4,
 "nbformat_minor": 5
}
